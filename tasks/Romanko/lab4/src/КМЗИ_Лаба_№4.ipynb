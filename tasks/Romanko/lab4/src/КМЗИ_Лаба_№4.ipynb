{
  "cells": [
    {
      "cell_type": "code",
      "source": [
        "!pip install qiskit==0.46 qiskit-ibmq-provider pylatexenc qiskit-aer"
      ],
      "metadata": {
        "id": "YUoSWW_2PmpI",
        "outputId": "cbd18b69-ba51-41a0-86d3-12975778a05c",
        "colab": {
          "base_uri": "https://localhost:8080/"
        }
      },
      "execution_count": null,
      "outputs": [
        {
          "output_type": "stream",
          "name": "stdout",
          "text": [
            "Requirement already satisfied: qiskit==0.46 in /usr/local/lib/python3.10/dist-packages (0.46.0)\n",
            "Requirement already satisfied: qiskit-ibmq-provider in /usr/local/lib/python3.10/dist-packages (0.20.2)\n",
            "Requirement already satisfied: pylatexenc in /usr/local/lib/python3.10/dist-packages (2.10)\n",
            "Requirement already satisfied: qiskit-aer in /usr/local/lib/python3.10/dist-packages (0.14.2)\n",
            "Requirement already satisfied: qiskit-terra==0.46.0 in /usr/local/lib/python3.10/dist-packages (from qiskit==0.46) (0.46.0)\n",
            "Requirement already satisfied: rustworkx>=0.13.0 in /usr/local/lib/python3.10/dist-packages (from qiskit-terra==0.46.0->qiskit==0.46) (0.15.1)\n",
            "Requirement already satisfied: numpy<2,>=1.17 in /usr/local/lib/python3.10/dist-packages (from qiskit-terra==0.46.0->qiskit==0.46) (1.23.5)\n",
            "Requirement already satisfied: ply>=3.10 in /usr/local/lib/python3.10/dist-packages (from qiskit-terra==0.46.0->qiskit==0.46) (3.11)\n",
            "Requirement already satisfied: psutil>=5 in /usr/local/lib/python3.10/dist-packages (from qiskit-terra==0.46.0->qiskit==0.46) (5.9.5)\n",
            "Requirement already satisfied: scipy>=1.5 in /usr/local/lib/python3.10/dist-packages (from qiskit-terra==0.46.0->qiskit==0.46) (1.13.1)\n",
            "Requirement already satisfied: sympy>=1.3 in /usr/local/lib/python3.10/dist-packages (from qiskit-terra==0.46.0->qiskit==0.46) (1.13.3)\n",
            "Requirement already satisfied: dill>=0.3 in /usr/local/lib/python3.10/dist-packages (from qiskit-terra==0.46.0->qiskit==0.46) (0.3.9)\n",
            "Requirement already satisfied: python-dateutil>=2.8.0 in /usr/local/lib/python3.10/dist-packages (from qiskit-terra==0.46.0->qiskit==0.46) (2.8.2)\n",
            "Requirement already satisfied: stevedore>=3.0.0 in /usr/local/lib/python3.10/dist-packages (from qiskit-terra==0.46.0->qiskit==0.46) (5.3.0)\n",
            "Requirement already satisfied: symengine>=0.11 in /usr/local/lib/python3.10/dist-packages (from qiskit-terra==0.46.0->qiskit==0.46) (0.13.0)\n",
            "Requirement already satisfied: typing-extensions in /usr/local/lib/python3.10/dist-packages (from qiskit-terra==0.46.0->qiskit==0.46) (4.12.2)\n",
            "Requirement already satisfied: requests>=2.19 in /usr/local/lib/python3.10/dist-packages (from qiskit-ibmq-provider) (2.32.3)\n",
            "Requirement already satisfied: requests-ntlm<=1.1.0 in /usr/local/lib/python3.10/dist-packages (from qiskit-ibmq-provider) (1.1.0)\n",
            "Requirement already satisfied: urllib3>=1.21.1 in /usr/local/lib/python3.10/dist-packages (from qiskit-ibmq-provider) (2.2.3)\n",
            "Requirement already satisfied: websocket-client>=1.5.1 in /usr/local/lib/python3.10/dist-packages (from qiskit-ibmq-provider) (1.8.0)\n",
            "Requirement already satisfied: websockets>=10.0 in /usr/local/lib/python3.10/dist-packages (from qiskit-ibmq-provider) (13.1)\n",
            "Requirement already satisfied: six>=1.5 in /usr/local/lib/python3.10/dist-packages (from python-dateutil>=2.8.0->qiskit-terra==0.46.0->qiskit==0.46) (1.16.0)\n",
            "Requirement already satisfied: charset-normalizer<4,>=2 in /usr/local/lib/python3.10/dist-packages (from requests>=2.19->qiskit-ibmq-provider) (3.4.0)\n",
            "Requirement already satisfied: idna<4,>=2.5 in /usr/local/lib/python3.10/dist-packages (from requests>=2.19->qiskit-ibmq-provider) (3.10)\n",
            "Requirement already satisfied: certifi>=2017.4.17 in /usr/local/lib/python3.10/dist-packages (from requests>=2.19->qiskit-ibmq-provider) (2024.8.30)\n",
            "Requirement already satisfied: ntlm-auth>=1.0.2 in /usr/local/lib/python3.10/dist-packages (from requests-ntlm<=1.1.0->qiskit-ibmq-provider) (1.5.0)\n",
            "Requirement already satisfied: cryptography>=1.3 in /usr/local/lib/python3.10/dist-packages (from requests-ntlm<=1.1.0->qiskit-ibmq-provider) (43.0.1)\n",
            "Requirement already satisfied: cffi>=1.12 in /usr/local/lib/python3.10/dist-packages (from cryptography>=1.3->requests-ntlm<=1.1.0->qiskit-ibmq-provider) (1.17.1)\n",
            "Requirement already satisfied: pbr>=2.0.0 in /usr/local/lib/python3.10/dist-packages (from stevedore>=3.0.0->qiskit-terra==0.46.0->qiskit==0.46) (6.1.0)\n",
            "Requirement already satisfied: mpmath<1.4,>=1.1.0 in /usr/local/lib/python3.10/dist-packages (from sympy>=1.3->qiskit-terra==0.46.0->qiskit==0.46) (1.3.0)\n",
            "Requirement already satisfied: pycparser in /usr/local/lib/python3.10/dist-packages (from cffi>=1.12->cryptography>=1.3->requests-ntlm<=1.1.0->qiskit-ibmq-provider) (2.22)\n"
          ]
        }
      ]
    },
    {
      "cell_type": "code",
      "source": [
        "from qiskit import IBMQ\n",
        "MY_API_TOKEN = '743a2e92feeae792763aa4ca74bbce26aae5058badf2edf21de7733d116ed93d25e688a5f248c31c4eadab31a1dd25e2e73e8bd52e1541e1331560b7ab93ed8a'\n",
        "IBMQ.save_account(MY_API_TOKEN, overwrite=True)"
      ],
      "metadata": {
        "id": "xmvF8RBTP7Jr",
        "colab": {
          "base_uri": "https://localhost:8080/"
        },
        "outputId": "44e60a8d-8b52-4f20-851f-fc6f7edb4439"
      },
      "execution_count": null,
      "outputs": [
        {
          "output_type": "stream",
          "name": "stderr",
          "text": [
            "<ipython-input-2-e8d1c7d08754>:3: DeprecationWarning: The qiskit.IBMQ entrypoint and the qiskit-ibmq-provider package (accessible from 'qiskit.providers.ibmq`) are deprecated and will be removed in a future release. Instead you should use the qiskit-ibm-provider package which is accessible from 'qiskit_ibm_provider'. You can install it with 'pip install qiskit_ibm_provider'. Just replace 'qiskit.IBMQ' with 'qiskit_ibm_provider.IBMProvider'\n",
            "  IBMQ.save_account(MY_API_TOKEN, overwrite=True)\n",
            "<ipython-input-2-e8d1c7d08754>:3: DeprecationWarning: The package qiskit.providers.ibmq is being deprecated. Please see https://ibm.biz/provider_migration_guide to get instructions on how to migrate to qiskit-ibm-provider (https://github.com/Qiskit/qiskit-ibm-provider) and qiskit-ibm-runtime (https://github.com/Qiskit/qiskit-ibm-runtime).\n",
            "  IBMQ.save_account(MY_API_TOKEN, overwrite=True)\n"
          ]
        }
      ]
    },
    {
      "cell_type": "markdown",
      "source": [
        "# **Лабораторная работа №4**\n",
        "\n",
        "**СУММАТОР В КВАНТОВЫХ СХЕМАХ**\n",
        "\n",
        "Цель работы: ознакомление с выполнением простого сложения с помощью квантовых схем.\n"
      ],
      "metadata": {
        "id": "gs4sRc4Ia1RX"
      }
    },
    {
      "cell_type": "markdown",
      "source": [
        "**Теория**\n",
        "\n",
        "Как и в классических вычислениях, где вы можете комбинировать различные логические элементы (например, И, ИЛИ, исключающее ИЛИ и т. д.) для создания двоичных сумматоров, вы также можете создавать сумматоры с помощью квантовых схем.\n"
      ],
      "metadata": {
        "id": "xiG9UaW6bXI_"
      }
    },
    {
      "cell_type": "markdown",
      "metadata": {
        "id": "Xeh4SJiPaxZT"
      },
      "source": [
        "# Задание\n",
        "1. Изучить теоретический материал.\n",
        "2. Произвести регистрацию на сайте https://quantum.ibm.com/ для получения токена API или дальнейшей работы с интерактивной средой IBM Quantum Experience\n",
        "3. Средствами Qiskit или используя средства интерактивной среды IBM Quantum Experience https://quantum.ibm.com/composer/ , создать квантовую схему полного сумматора.\n",
        "\n",
        "Полный сумматор принимает на вход два двоичных числа плюс бит переполнения, который мы назовем X.\n",
        "Создайте полный сумматор с входными данными:\n",
        "\n",
        "$A=1$, $B=0$, $X=1$\n",
        ".\n",
        "\n",
        "Таблица истинности для полного сумматора приведена ниже.\n",
        "\n",
        "|A(input)|B(input)|X(carry input)|S(sum)|C(carry out)|\n",
        "|--|--|--|--|--|\n",
        "|0|0|0|0|0|\n",
        "|0|0|1|1|0|\n",
        "|0|1|0|1|0|\n",
        "|0|1|1|0|1|\n",
        "|1|0|0|1|0|\n",
        "|1|0|1|0|1|\n",
        "|1|1|0|0|1|\n",
        "|1|1|1|1|1|"
      ]
    },
    {
      "cell_type": "code",
      "execution_count": null,
      "metadata": {
        "id": "wN2BrDzAaxZU",
        "outputId": "4d660d05-eb76-47a0-ede4-5a7a0a85c31d",
        "colab": {
          "base_uri": "https://localhost:8080/",
          "height": 591
        }
      },
      "outputs": [
        {
          "output_type": "stream",
          "name": "stderr",
          "text": [
            "<ipython-input-3-bbac2dce11c9>:18: DeprecationWarning: The 'qiskit.Aer' entry point is deprecated and will be removed in Qiskit 1.0. You should use 'qiskit_aer.Aer' directly instead.\n",
            "  backend = Aer.get_backend('qasm_simulator')\n",
            "<ipython-input-3-bbac2dce11c9>:19: DeprecationWarning: The function ``qiskit.execute_function.execute()`` is deprecated as of qiskit 0.46.0. It will be removed in the Qiskit 1.0 release. This function combines ``transpile`` and ``backend.run``, which is covered by ``Sampler`` :mod:`~qiskit.primitives`. Alternatively, you can also run :func:`.transpile` followed by ``backend.run()``.\n",
            "  job = execute(circuit, backend, shots=1000)\n"
          ]
        },
        {
          "output_type": "stream",
          "name": "stdout",
          "text": [
            "{'0000': 1000}\n"
          ]
        },
        {
          "output_type": "stream",
          "name": "stderr",
          "text": [
            "/usr/local/lib/python3.10/dist-packages/qiskit/visualization/circuit/matplotlib.py:266: FutureWarning: The default matplotlib drawer scheme will be changed to \"iqp\" in a following release. To silence this warning, specify the current default explicitly as style=\"clifford\", or the new default as style=\"iqp\".\n",
            "  self._style, def_font_ratio = load_style(self._style)\n"
          ]
        },
        {
          "output_type": "execute_result",
          "data": {
            "text/plain": [
              "<Figure size 872.774x535.111 with 1 Axes>"
            ],
            "image/png": "[encoded data removed]"
          },
          "metadata": {},
          "execution_count": 3
        }
      ],
      "source": [
        "from qiskit import QuantumRegister, ClassicalRegister, QuantumCircuit\n",
        "from qiskit import Aer, execute\n",
        "\n",
        "qreg_q = QuantumRegister(5, 'q')\n",
        "creg_c = ClassicalRegister(4, 'c')\n",
        "circuit = QuantumCircuit(qreg_q, creg_c)\n",
        "\n",
        "circuit.x(qreg_q[2])\n",
        "circuit.barrier(qreg_q)\n",
        "circuit.cx(qreg_q[0], qreg_q[3])\n",
        "circuit.cx(qreg_q[1], qreg_q[3])\n",
        "circuit.ccx(qreg_q[0], qreg_q[3], qreg_q[4])\n",
        "circuit.cx(qreg_q[2], qreg_q[3])\n",
        "circuit.ccx(qreg_q[2], qreg_q[1], qreg_q[4])\n",
        "circuit.measure(qreg_q[3], creg_c[3])\n",
        "circuit.measure(qreg_q[4], creg_c[3])\n",
        "\n",
        "backend = Aer.get_backend('qasm_simulator')\n",
        "job = execute(circuit, backend, shots=1000)\n",
        "result = job.result()\n",
        "counts = result.get_counts()\n",
        "print(counts)\n",
        "\n",
        "circuit.draw(output='mpl')"
      ]
    }
  ],
  "metadata": {
    "kernelspec": {
      "display_name": "Python 3",
      "language": "python",
      "name": "python3"
    },
    "language_info": {
      "codemirror_mode": {
        "name": "ipython",
        "version": 3
      },
      "file_extension": ".py",
      "mimetype": "text/x-python",
      "name": "python",
      "nbconvert_exporter": "python",
      "pygments_lexer": "ipython3",
      "version": "3.7.3"
    },
    "colab": {
      "provenance": []
    }
  },
  "nbformat": 4,
  "nbformat_minor": 0
}